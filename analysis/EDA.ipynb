{
 "cells": [
  {
   "cell_type": "code",
   "execution_count": null,
   "metadata": {},
   "outputs": [],
   "source": [
    "import pathlib\n",
    "import numpy as np\n",
    "import pandas as pd\n",
    "import seaborn as sns\n",
    "import matplotlib.pyplot as plt\n",
    "from sklearn.model_selection import train_test_split"
   ]
  },
  {
   "cell_type": "code",
   "execution_count": null,
   "metadata": {},
   "outputs": [],
   "source": [
    "\n",
    "from typing import Tuple, List\n",
    "def plot_corr_matrix(df, nr_c, targ) -> Tuple[plt.Figure, List[str]]: \n",
    "    \"\"\"A function for getting the features with the highest correlation with the\n",
    "    target variable.\n",
    "    \n",
    "    Returns:\n",
    "        Tuple of plt.Figure correlation matrix and list of top nr_c columns \n",
    "        correlated with targ. \n",
    "    \"\"\"\n",
    "\n",
    "    # get the values\n",
    "    corr = df.corr(numeric_only=True)\n",
    "    corr_abs = corr.abs()\n",
    "\n",
    "    # get the names in the largest to smallest order\n",
    "    cols = corr_abs.nlargest(nr_c, targ)[targ].index\n",
    "    cm = np.corrcoef(df[cols].values.T)\n",
    "\n",
    "    # plot the figure\n",
    "    fig, ax = plt.subplots(figsize=(6, 6))\n",
    "    sns.set(font_scale=1.25)\n",
    "    ax = sns.heatmap(cm, linewidths=1.5, annot=True, square=True,\n",
    "                fmt='.2f', annot_kws={'size': 10},\n",
    "                yticklabels=cols.values, xticklabels=cols.values, ax=ax)\n",
    "    print('The highest corrolations are with the following columns:\\n', cols)\n",
    "    return fig, cols\n",
    "\n",
    "fig, cols = plot_corr_matrix(df, nr_c=5, targ='SalePrice')"
   ]
  }
 ],
 "metadata": {
  "language_info": {
   "name": "python"
  }
 },
 "nbformat": 4,
 "nbformat_minor": 2
}
