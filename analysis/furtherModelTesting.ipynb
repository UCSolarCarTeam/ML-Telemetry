{
 "cells": [
  {
   "cell_type": "markdown",
   "metadata": {},
   "source": [
    "# Further Exploration of Machine Learning Models\n",
    "As explained in baselineModelTesting.ipynb, we want to predict lap distance given other lap data. We chose to use a Linear Regression algorithm for the baseline model, and got RMSE and MAE values of 1.88 and 0.8 respectively. Now, we will train models on the other candidate algorithms (both with and without cross validation) and compare to this baseline model. These algorithms include KNN, Decision Trees, Random Forests, and Gradient Boosting. "
   ]
  },
  {
   "cell_type": "markdown",
   "metadata": {},
   "source": [
    "## Import Modules and Clean the Data"
   ]
  },
  {
   "cell_type": "code",
   "execution_count": 63,
   "metadata": {},
   "outputs": [
    {
     "data": {
      "text/html": [
       "<div>\n",
       "<style scoped>\n",
       "    .dataframe tbody tr th:only-of-type {\n",
       "        vertical-align: middle;\n",
       "    }\n",
       "\n",
       "    .dataframe tbody tr th {\n",
       "        vertical-align: top;\n",
       "    }\n",
       "\n",
       "    .dataframe thead th {\n",
       "        text-align: right;\n",
       "    }\n",
       "</style>\n",
       "<table border=\"1\" class=\"dataframe\">\n",
       "  <thead>\n",
       "    <tr style=\"text-align: right;\">\n",
       "      <th></th>\n",
       "      <th>totalpowerin</th>\n",
       "      <th>totalpowerout</th>\n",
       "      <th>netpowerout</th>\n",
       "      <th>distance</th>\n",
       "      <th>amphours</th>\n",
       "      <th>batterysecondsremaining</th>\n",
       "      <th>averagespeed</th>\n",
       "      <th>averagepackCurrent</th>\n",
       "    </tr>\n",
       "  </thead>\n",
       "  <tbody>\n",
       "    <tr>\n",
       "      <th>3</th>\n",
       "      <td>793.532455</td>\n",
       "      <td>1803.385827</td>\n",
       "      <td>1009.853372</td>\n",
       "      <td>2.814824</td>\n",
       "      <td>97.800003</td>\n",
       "      <td>22425</td>\n",
       "      <td>49.584229</td>\n",
       "      <td>15.70</td>\n",
       "    </tr>\n",
       "    <tr>\n",
       "      <th>4</th>\n",
       "      <td>798.704841</td>\n",
       "      <td>685.739611</td>\n",
       "      <td>-112.965230</td>\n",
       "      <td>4.118535</td>\n",
       "      <td>95.300003</td>\n",
       "      <td>56521</td>\n",
       "      <td>24.939703</td>\n",
       "      <td>6.07</td>\n",
       "    </tr>\n",
       "    <tr>\n",
       "      <th>5</th>\n",
       "      <td>585.339547</td>\n",
       "      <td>2634.298876</td>\n",
       "      <td>2048.959329</td>\n",
       "      <td>3.974127</td>\n",
       "      <td>93.599998</td>\n",
       "      <td>14468</td>\n",
       "      <td>54.412831</td>\n",
       "      <td>23.29</td>\n",
       "    </tr>\n",
       "    <tr>\n",
       "      <th>6</th>\n",
       "      <td>681.537550</td>\n",
       "      <td>2573.828806</td>\n",
       "      <td>1892.291255</td>\n",
       "      <td>3.987067</td>\n",
       "      <td>91.900002</td>\n",
       "      <td>14517</td>\n",
       "      <td>55.419749</td>\n",
       "      <td>22.79</td>\n",
       "    </tr>\n",
       "    <tr>\n",
       "      <th>7</th>\n",
       "      <td>559.875099</td>\n",
       "      <td>2739.047764</td>\n",
       "      <td>2179.172665</td>\n",
       "      <td>3.994517</td>\n",
       "      <td>90.099998</td>\n",
       "      <td>13283</td>\n",
       "      <td>55.529298</td>\n",
       "      <td>24.42</td>\n",
       "    </tr>\n",
       "    <tr>\n",
       "      <th>...</th>\n",
       "      <td>...</td>\n",
       "      <td>...</td>\n",
       "      <td>...</td>\n",
       "      <td>...</td>\n",
       "      <td>...</td>\n",
       "      <td>...</td>\n",
       "      <td>...</td>\n",
       "      <td>...</td>\n",
       "    </tr>\n",
       "    <tr>\n",
       "      <th>202</th>\n",
       "      <td>537.555507</td>\n",
       "      <td>1679.129062</td>\n",
       "      <td>1141.573555</td>\n",
       "      <td>3.952078</td>\n",
       "      <td>3.800000</td>\n",
       "      <td>740</td>\n",
       "      <td>44.881966</td>\n",
       "      <td>18.49</td>\n",
       "    </tr>\n",
       "    <tr>\n",
       "      <th>203</th>\n",
       "      <td>475.938651</td>\n",
       "      <td>1666.858482</td>\n",
       "      <td>1190.919832</td>\n",
       "      <td>3.963359</td>\n",
       "      <td>2.100000</td>\n",
       "      <td>406</td>\n",
       "      <td>43.894226</td>\n",
       "      <td>18.62</td>\n",
       "    </tr>\n",
       "    <tr>\n",
       "      <th>204</th>\n",
       "      <td>700.176665</td>\n",
       "      <td>566.324558</td>\n",
       "      <td>-133.852107</td>\n",
       "      <td>0.181906</td>\n",
       "      <td>4.700000</td>\n",
       "      <td>100215</td>\n",
       "      <td>1.106129</td>\n",
       "      <td>-5.78</td>\n",
       "    </tr>\n",
       "    <tr>\n",
       "      <th>205</th>\n",
       "      <td>615.194700</td>\n",
       "      <td>1680.524756</td>\n",
       "      <td>1065.330056</td>\n",
       "      <td>3.963687</td>\n",
       "      <td>3.000000</td>\n",
       "      <td>611</td>\n",
       "      <td>41.645220</td>\n",
       "      <td>17.67</td>\n",
       "    </tr>\n",
       "    <tr>\n",
       "      <th>206</th>\n",
       "      <td>624.008188</td>\n",
       "      <td>1543.656620</td>\n",
       "      <td>919.648432</td>\n",
       "      <td>3.966359</td>\n",
       "      <td>1.400000</td>\n",
       "      <td>300</td>\n",
       "      <td>43.276732</td>\n",
       "      <td>16.79</td>\n",
       "    </tr>\n",
       "  </tbody>\n",
       "</table>\n",
       "<p>199 rows × 8 columns</p>\n",
       "</div>"
      ],
      "text/plain": [
       "     totalpowerin  totalpowerout  netpowerout  distance   amphours  \\\n",
       "3      793.532455    1803.385827  1009.853372  2.814824  97.800003   \n",
       "4      798.704841     685.739611  -112.965230  4.118535  95.300003   \n",
       "5      585.339547    2634.298876  2048.959329  3.974127  93.599998   \n",
       "6      681.537550    2573.828806  1892.291255  3.987067  91.900002   \n",
       "7      559.875099    2739.047764  2179.172665  3.994517  90.099998   \n",
       "..            ...            ...          ...       ...        ...   \n",
       "202    537.555507    1679.129062  1141.573555  3.952078   3.800000   \n",
       "203    475.938651    1666.858482  1190.919832  3.963359   2.100000   \n",
       "204    700.176665     566.324558  -133.852107  0.181906   4.700000   \n",
       "205    615.194700    1680.524756  1065.330056  3.963687   3.000000   \n",
       "206    624.008188    1543.656620   919.648432  3.966359   1.400000   \n",
       "\n",
       "     batterysecondsremaining  averagespeed  averagepackCurrent  \n",
       "3                      22425     49.584229               15.70  \n",
       "4                      56521     24.939703                6.07  \n",
       "5                      14468     54.412831               23.29  \n",
       "6                      14517     55.419749               22.79  \n",
       "7                      13283     55.529298               24.42  \n",
       "..                       ...           ...                 ...  \n",
       "202                      740     44.881966               18.49  \n",
       "203                      406     43.894226               18.62  \n",
       "204                   100215      1.106129               -5.78  \n",
       "205                      611     41.645220               17.67  \n",
       "206                      300     43.276732               16.79  \n",
       "\n",
       "[199 rows x 8 columns]"
      ]
     },
     "metadata": {},
     "output_type": "display_data"
    }
   ],
   "source": [
    "import pandas as pd\n",
    "import numpy as np\n",
    "import matplotlib.pyplot as plt\n",
    "from sklearn.neighbors import KNeighborsRegressor\n",
    "from sklearn.tree import DecisionTreeRegressor\n",
    "from sklearn.ensemble import RandomForestRegressor, GradientBoostingRegressor\n",
    "from sklearn.metrics import mean_squared_error, mean_absolute_error, make_scorer\n",
    "from sklearn.model_selection import GridSearchCV, KFold, train_test_split\n",
    "\n",
    "#global variables for randomness seed and test size\n",
    "GLOBAL_RANDOM_STATE = 69420\n",
    "GLOBAL_TEST_SIZE = 0.2\n",
    "\n",
    "# Drop useless columns\n",
    "packetTrainingDataPath=\"../training_data/Elysia.Laps.feather\"\n",
    "df = pd.read_feather(packetTrainingDataPath)\n",
    "df = df.drop(\n",
    "        columns=[\n",
    "            \"msgType\",\n",
    "            \"_id.$oid\",\n",
    "            \"averagepackCurrent.$numberDouble\",\n",
    "            \"timestamp.$numberLong\",\n",
    "            \"secondsdifference\",\n",
    "        ]\n",
    "    )\n",
    "\n",
    "#we need the averagepackCurrent data to be numeric instead of {\"$numberDouble\": \"NaN\"}, setting errors='coerce' sets them to numerical NaN\n",
    "df['averagepackCurrent'] = pd.to_numeric(df['averagepackCurrent'], errors='coerce')\n",
    "\n",
    "#drop the 4 rows with null values\n",
    "df = df.dropna(subset=['distance', 'averagepackCurrent', 'averagespeed'])\n",
    "\n",
    "# Remove outliers from the data\n",
    "#to do this, first define a threshold for outliers (3 standard deviations which contains 99.7% of data)\n",
    "threshold = 3 * np.std(df['distance'])\n",
    "\n",
    "#remove the outliers\n",
    "df = df[(df['distance'] >= -threshold) & (df['distance'] <= threshold)]\n",
    "#remove negative distance values\n",
    "df = df[df['distance'] >= 0]\n",
    "\n",
    "#seperate distance from the other features\n",
    "X = df[['totalpowerin', 'totalpowerout', 'netpowerout', 'amphours', \n",
    "    'averagepackCurrent', 'batterysecondsremaining', 'averagespeed']]\n",
    "y = df['distance']\n",
    "\n",
    "display(df) #should be 199x8"
   ]
  },
  {
   "cell_type": "markdown",
   "metadata": {},
   "source": [
    "## KNN"
   ]
  },
  {
   "cell_type": "code",
   "execution_count": 64,
   "metadata": {},
   "outputs": [
    {
     "name": "stdout",
     "output_type": "stream",
     "text": [
      "RMSE for KNN is: 1.7601743147139357\n",
      "MAE for KNN is: 0.93758609865129\n"
     ]
    }
   ],
   "source": [
    "X_train, X_test, y_train, y_test = train_test_split(X, y, test_size=GLOBAL_TEST_SIZE, random_state=GLOBAL_RANDOM_STATE)\n",
    "\n",
    "newKNN_model = KNeighborsRegressor(n_neighbors=5)\n",
    "newKNN_model.fit(X_train, y_train)\n",
    "\n",
    "y_pred_dt = newKNN_model.predict(X_test)\n",
    "\n",
    "rmse_newknn = np.sqrt(mean_squared_error(y_test, y_pred_dt))\n",
    "mae_newknn = mean_absolute_error(y_test, y_pred_dt)\n",
    "\n",
    "print(f\"RMSE for KNN is: {rmse_newknn}\")\n",
    "print(f\"MAE for KNN is: {mae_newknn}\")"
   ]
  },
  {
   "cell_type": "markdown",
   "metadata": {},
   "source": [
    "## KNN with Hyperparameter Tuning"
   ]
  },
  {
   "cell_type": "code",
   "execution_count": 65,
   "metadata": {},
   "outputs": [
    {
     "name": "stdout",
     "output_type": "stream",
     "text": [
      "This is the n_neighbors number the model should be training on: 20\n"
     ]
    },
    {
     "data": {
      "image/png": "[encoded data removed]",
      "text/plain": [
       "<Figure size 720x432 with 1 Axes>"
      ]
     },
     "metadata": {
      "needs_background": "light"
     },
     "output_type": "display_data"
    },
    {
     "name": "stdout",
     "output_type": "stream",
     "text": [
      "MAE for n_neighbors=15: 0.50927465617411\n",
      "MAE for n_neighbors=16: 0.5081548192759396\n",
      "MAE for n_neighbors=17: 0.5028496564392458\n",
      "MAE for n_neighbors=18: 0.4968811868517823\n",
      "MAE for n_neighbors=19: 0.4902695300407429\n",
      "MAE for n_neighbors=20: 0.4865336079257342\n",
      "RMSE for KNN with Hyperparameter Tuning is: 1.7631053829435306\n",
      "MAE for KNN with Hyperparameter Tuning is: 0.9387104717208447\n"
     ]
    }
   ],
   "source": [
    "# Define the parameter grid\n",
    "param_grid = {'n_neighbors': range(15, 21)} #lower limit of 15 because according to the plot before, MAE for n_neighbors<15 was pretty bad\n",
    "\n",
    "# Use GridSearchCV to find the best number of neighbors\n",
    "grid_search = GridSearchCV(KNeighborsRegressor(), param_grid, scoring='neg_mean_absolute_error', cv=5)\n",
    "grid_search.fit(X_train, y_train)\n",
    "\n",
    "# Set the best number of neighbors\n",
    "knn_model = KNeighborsRegressor(n_neighbors=grid_search.best_params_['n_neighbors'])\n",
    "print(f\"This is the n_neighbors number the model should be training on: {grid_search.best_params_['n_neighbors']}\")\n",
    "knn_model.fit(X_train, y_train)\n",
    "\n",
    "# Plot the MAE for each number of n_neighbors\n",
    "plt.figure(figsize=(10, 6))\n",
    "plt.plot(param_grid['n_neighbors'], -grid_search.cv_results_['mean_test_score'], marker='o')\n",
    "plt.xlabel('Number of Neighbors (n_neighbors)')\n",
    "plt.ylabel('Mean Absolute Error (MAE)')\n",
    "plt.title('MAE for each number of n_neighbors')\n",
    "plt.grid(True)\n",
    "plt.show()\n",
    "\n",
    "mae_scores = -grid_search.cv_results_['mean_test_score']\n",
    "for n, mae in zip(param_grid['n_neighbors'], mae_scores):\n",
    "    print(f\"MAE for n_neighbors={n}: {mae}\")\n",
    "\n",
    "y_pred_knn = knn_model.predict(X_test)\n",
    "\n",
    "rmse_knn = np.sqrt(mean_squared_error(y_test, y_pred_knn))\n",
    "mae_knn = mean_absolute_error(y_test, y_pred_knn)\n",
    "\n",
    "print(f\"RMSE for KNN with Hyperparameter Tuning is: {rmse_knn}\")\n",
    "print(f\"MAE for KNN with Hyperparameter Tuning is: {mae_knn}\")"
   ]
  },
  {
   "cell_type": "markdown",
   "metadata": {},
   "source": [
    "## KNN with Cross Validation"
   ]
  },
  {
   "cell_type": "code",
   "execution_count": 66,
   "metadata": {},
   "outputs": [
    {
     "name": "stdout",
     "output_type": "stream",
     "text": [
      "Average RMSE of KNN with Cross Validation is: 1.3027346860967934\n",
      "Average MAE of KNN with Cross Validation is: 0.6564721744528997\n"
     ]
    }
   ],
   "source": [
    "kf = KFold(n_splits=5, shuffle=True, random_state=GLOBAL_RANDOM_STATE)\n",
    "knn_model = KNeighborsRegressor(n_neighbors=5)\n",
    "\n",
    "rmse_scores_knn = []\n",
    "mae_scores_knn = []\n",
    "\n",
    "for train_index, val_index in kf.split(X):\n",
    "    X_train, X_val = X.iloc[train_index], X.iloc[val_index]\n",
    "    y_train, y_val = y.iloc[train_index], y.iloc[val_index]\n",
    "    \n",
    "    knn_model.fit(X_train, y_train)\n",
    "    y_pred_knn = knn_model.predict(X_val)\n",
    "    \n",
    "    rmse_scores_knn.append(np.sqrt(mean_squared_error(y_val, y_pred_knn)))\n",
    "    mae_scores_knn.append(mean_absolute_error(y_val, y_pred_knn))\n",
    "\n",
    "print(f\"Average RMSE of KNN with Cross Validation is: {np.mean(rmse_scores_knn)}\")\n",
    "print(f\"Average MAE of KNN with Cross Validation is: {np.mean(mae_scores_knn)}\")"
   ]
  },
  {
   "cell_type": "markdown",
   "metadata": {},
   "source": [
    "## Decision Trees"
   ]
  },
  {
   "cell_type": "code",
   "execution_count": 67,
   "metadata": {},
   "outputs": [
    {
     "name": "stdout",
     "output_type": "stream",
     "text": [
      "RMSE for Decision Trees is: 1.9269982143851523\n",
      "MAE for Decision Trees is: 1.0067465393990278\n"
     ]
    }
   ],
   "source": [
    "X_train, X_test, y_train, y_test = train_test_split(X, y, test_size=GLOBAL_TEST_SIZE, random_state=GLOBAL_RANDOM_STATE)\n",
    "\n",
    "dt_model = DecisionTreeRegressor(random_state=GLOBAL_RANDOM_STATE)\n",
    "dt_model.fit(X_train, y_train)\n",
    "\n",
    "y_pred_dt = dt_model.predict(X_test)\n",
    "\n",
    "rmse_dt = np.sqrt(mean_squared_error(y_test, y_pred_dt))\n",
    "mae_dt = mean_absolute_error(y_test, y_pred_dt)\n",
    "\n",
    "print(f\"RMSE for Decision Trees is: {rmse_dt}\")\n",
    "print(f\"MAE for Decision Trees is: {mae_dt}\")"
   ]
  },
  {
   "cell_type": "markdown",
   "metadata": {},
   "source": [
    "## Decision Trees with Cross Validation"
   ]
  },
  {
   "cell_type": "code",
   "execution_count": 68,
   "metadata": {},
   "outputs": [
    {
     "name": "stdout",
     "output_type": "stream",
     "text": [
      "Average RMSE of Decision Trees with Cross Validation is: 1.6194096052355795\n",
      "Average MAE of Decision Trees with Cross Validation is: 0.7345414044039864\n"
     ]
    }
   ],
   "source": [
    "kf = KFold(n_splits=5, shuffle=True, random_state=GLOBAL_RANDOM_STATE)\n",
    "dt_model = DecisionTreeRegressor(random_state=GLOBAL_RANDOM_STATE)\n",
    "\n",
    "rmse_scores_dt = []\n",
    "mae_scores_dt = []\n",
    "\n",
    "for train_index, val_index in kf.split(X):\n",
    "    X_train, X_val = X.iloc[train_index], X.iloc[val_index]\n",
    "    y_train, y_val = y.iloc[train_index], y.iloc[val_index]\n",
    "    \n",
    "    dt_model.fit(X_train, y_train)\n",
    "    y_pred_dt = dt_model.predict(X_val)\n",
    "    \n",
    "    rmse_scores_dt.append(np.sqrt(mean_squared_error(y_val, y_pred_dt)))\n",
    "    mae_scores_dt.append(mean_absolute_error(y_val, y_pred_dt))\n",
    "\n",
    "print(f\"Average RMSE of Decision Trees with Cross Validation is: {np.mean(rmse_scores_dt)}\")\n",
    "print(f\"Average MAE of Decision Trees with Cross Validation is: {np.mean(mae_scores_dt)}\")"
   ]
  },
  {
   "cell_type": "markdown",
   "metadata": {},
   "source": [
    "## Random Forests"
   ]
  },
  {
   "cell_type": "code",
   "execution_count": 69,
   "metadata": {},
   "outputs": [
    {
     "name": "stdout",
     "output_type": "stream",
     "text": [
      "RMSE for Random Forests is: 1.7014263662227194\n",
      "MAE for Random Forests is: 0.9749912091165533\n"
     ]
    }
   ],
   "source": [
    "X_train, X_test, y_train, y_test = train_test_split(X, y, test_size=GLOBAL_TEST_SIZE, random_state=GLOBAL_RANDOM_STATE)\n",
    "\n",
    "rf_model = RandomForestRegressor(random_state=GLOBAL_RANDOM_STATE)\n",
    "rf_model.fit(X_train, y_train)\n",
    "\n",
    "y_pred_rf = rf_model.predict(X_test)\n",
    "\n",
    "rmse_rf = np.sqrt(mean_squared_error(y_test, y_pred_rf))\n",
    "mae_rf = mean_absolute_error(y_test, y_pred_rf)\n",
    "\n",
    "print(f\"RMSE for Random Forests is: {rmse_rf}\")\n",
    "print(f\"MAE for Random Forests is: {mae_rf}\")"
   ]
  },
  {
   "cell_type": "markdown",
   "metadata": {},
   "source": [
    "## Random Forests with Hyperparameter Tuning"
   ]
  },
  {
   "cell_type": "code",
   "execution_count": null,
   "metadata": {},
   "outputs": [
    {
     "name": "stdout",
     "output_type": "stream",
     "text": [
      "Best hyperparameters for Random Forest: {'max_depth': 10, 'min_samples_leaf': 1, 'min_samples_split': 10, 'n_estimators': 100}\n",
      "RMSE for Random Forests with Hyperparameter Tuning is: 1.6678055537819902\n",
      "MAE for Random Forests with Hyperparameter Tuning is: 0.9348572302396694\n"
     ]
    }
   ],
   "source": [
    "# Define the parameter grid for Random Forest\n",
    "param_grid_rf = {\n",
    "    'n_estimators': [50, 100, 200],\n",
    "    'max_depth': [None, 10, 20, 30],\n",
    "    'min_samples_split': [2, 5, 10],\n",
    "    'min_samples_leaf': [1, 2, 4] #this model will be trained 3x4x3x3 = 108 times\n",
    "}\n",
    "\n",
    "# Use GridSearchCV to find the best hyperparameters for Random Forest\n",
    "grid_search_rf = GridSearchCV(RandomForestRegressor(random_state=GLOBAL_RANDOM_STATE), param_grid_rf, scoring='neg_mean_absolute_error', cv=5)\n",
    "grid_search_rf.fit(X_train, y_train)\n",
    "\n",
    "# Set the best hyperparameters\n",
    "rf_model = RandomForestRegressor(**grid_search_rf.best_params_, random_state=GLOBAL_RANDOM_STATE)\n",
    "print(f\"Best hyperparameters for Random Forest: {grid_search_rf.best_params_}\")\n",
    "rf_model.fit(X_train, y_train)\n",
    "\n",
    "y_pred_rf = rf_model.predict(X_test)\n",
    "\n",
    "rmse_rf = np.sqrt(mean_squared_error(y_test, y_pred_rf))\n",
    "mae_rf = mean_absolute_error(y_test, y_pred_rf)\n",
    "\n",
    "print(f\"RMSE for Random Forests with Hyperparameter Tuning is: {rmse_rf}\")\n",
    "print(f\"MAE for Random Forests with Hyperparameter Tuning is: {mae_rf}\")"
   ]
  },
  {
   "cell_type": "markdown",
   "metadata": {},
   "source": [
    "## Random Forests with Cross Validation"
   ]
  },
  {
   "cell_type": "code",
   "execution_count": 71,
   "metadata": {},
   "outputs": [
    {
     "name": "stdout",
     "output_type": "stream",
     "text": [
      "Average RMSE of Random Forests with Cross Validation is: 1.1449132726496747\n",
      "Average MAE of Random Forests with Cross Validation is: 0.6261941042077885\n"
     ]
    }
   ],
   "source": [
    "kf = KFold(n_splits=5, shuffle=True, random_state=GLOBAL_RANDOM_STATE)\n",
    "rf_model = RandomForestRegressor(random_state=GLOBAL_RANDOM_STATE)\n",
    "\n",
    "rmse_scores_rf = []\n",
    "mae_scores_rf = []\n",
    "\n",
    "for train_index, val_index in kf.split(X):\n",
    "    X_train, X_val = X.iloc[train_index], X.iloc[val_index]\n",
    "    y_train, y_val = y.iloc[train_index], y.iloc[val_index]\n",
    "    \n",
    "    rf_model.fit(X_train, y_train)\n",
    "    y_pred_rf = rf_model.predict(X_val)\n",
    "    \n",
    "    rmse_scores_rf.append(np.sqrt(mean_squared_error(y_val, y_pred_rf)))\n",
    "    mae_scores_rf.append(mean_absolute_error(y_val, y_pred_rf))\n",
    "\n",
    "print(f\"Average RMSE of Random Forests with Cross Validation is: {np.mean(rmse_scores_rf)}\")\n",
    "print(f\"Average MAE of Random Forests with Cross Validation is: {np.mean(mae_scores_rf)}\")"
   ]
  },
  {
   "cell_type": "markdown",
   "metadata": {},
   "source": [
    "## Gradient Boosting"
   ]
  },
  {
   "cell_type": "code",
   "execution_count": 72,
   "metadata": {},
   "outputs": [
    {
     "name": "stdout",
     "output_type": "stream",
     "text": [
      "RMSE for Gradient Boosting is: 1.6968263362694784\n",
      "MAE for Gradient Boosting is: 0.9372560536881501\n"
     ]
    }
   ],
   "source": [
    "X_train, X_test, y_train, y_test = train_test_split(X, y, test_size=GLOBAL_TEST_SIZE, random_state=GLOBAL_RANDOM_STATE)\n",
    "\n",
    "gb_model = GradientBoostingRegressor(random_state=GLOBAL_RANDOM_STATE)\n",
    "gb_model.fit(X_train, y_train)\n",
    "\n",
    "y_pred_gb = gb_model.predict(X_test)\n",
    "\n",
    "rmse_gb = np.sqrt(mean_squared_error(y_test, y_pred_gb))\n",
    "mae_gb = mean_absolute_error(y_test, y_pred_gb)\n",
    "\n",
    "print(f\"RMSE for Gradient Boosting is: {rmse_gb}\")\n",
    "print(f\"MAE for Gradient Boosting is: {mae_gb}\")"
   ]
  },
  {
   "cell_type": "markdown",
   "metadata": {},
   "source": [
    "## Gradient Boosting with Cross Validation"
   ]
  },
  {
   "cell_type": "code",
   "execution_count": 73,
   "metadata": {},
   "outputs": [
    {
     "name": "stdout",
     "output_type": "stream",
     "text": [
      "Average RMSE of Gradient Boosting with Cross Validation is: 1.2157971010564363\n",
      "Average MAE of Gradient Boosting with Cross Validation is: 0.6490862023426779\n",
      "Minimum distance: 0.0162265625\n",
      "Maximum distance: 8.745853515625\n",
      "Average distance: 4.063722782813743\n",
      "25th percentile of distance: 3.963570068359375\n",
      "50th percentile (median) of distance: 3.9834296875\n",
      "75th percentile of distance: 4.0039501953125\n"
     ]
    }
   ],
   "source": [
    "kf = KFold(n_splits=5, shuffle=True, random_state=GLOBAL_RANDOM_STATE)\n",
    "gb_model = GradientBoostingRegressor(random_state=GLOBAL_RANDOM_STATE)\n",
    "\n",
    "rmse_scores_gb = []\n",
    "mae_scores_gb = []\n",
    "\n",
    "for train_index, val_index in kf.split(X):\n",
    "    X_train, X_val = X.iloc[train_index], X.iloc[val_index]\n",
    "    y_train, y_val = y.iloc[train_index], y.iloc[val_index]\n",
    "    \n",
    "    gb_model.fit(X_train, y_train)\n",
    "    y_pred_gb = gb_model.predict(X_val)\n",
    "    \n",
    "    rmse_scores_gb.append(np.sqrt(mean_squared_error(y_val, y_pred_gb)))\n",
    "    mae_scores_gb.append(mean_absolute_error(y_val, y_pred_gb))\n",
    "\n",
    "print(f\"Average RMSE of Gradient Boosting with Cross Validation is: {np.mean(rmse_scores_gb)}\")\n",
    "print(f\"Average MAE of Gradient Boosting with Cross Validation is: {np.mean(mae_scores_gb)}\")\n",
    "\n",
    "min_distance = df['distance'].min()\n",
    "max_distance = df['distance'].max()\n",
    "average_distance = df['distance'].mean()\n",
    "percentile_25 = np.percentile(df['distance'], 25)\n",
    "percentile_50 = np.percentile(df['distance'], 50)\n",
    "percentile_75 = np.percentile(df['distance'], 75)\n",
    "\n",
    "print(\"Minimum distance:\", min_distance)\n",
    "print(\"Maximum distance:\", max_distance)\n",
    "print(\"Average distance:\", average_distance)\n",
    "print(f\"25th percentile of distance: {percentile_25}\")\n",
    "print(f\"50th percentile (median) of distance: {percentile_50}\")\n",
    "print(f\"75th percentile of distance: {percentile_75}\")"
   ]
  },
  {
   "cell_type": "markdown",
   "metadata": {},
   "source": [
    "## Ranking and Evaluation on Performance\n",
    "\n",
    "### Ranking Criteria\n",
    "As mentioned in the conclusion of baselineModelTesting, we want low MAE and RMSE scores, with a priority on lower MAE over RMSE. \n",
    "\n",
    "### Model Performance\n",
    "1. **Random Forests with Cross Validation**\n",
    "    - **MAE:** 0.6262\n",
    "    - **RMSE:** 1.1449\n",
    "\n",
    "2. **Gradient Boosting with Cross Validation**\n",
    "    - **MAE:** 0.6491\n",
    "    - **RMSE:** 1.2158\n",
    "\n",
    "3. **KNN with Cross Validation**\n",
    "    - **MAE:** 0.6565\n",
    "    - **RMSE:** 1.3027\n",
    "\n",
    "4. **Decision Trees with Cross Validation**\n",
    "    - **MAE:** 0.7345\n",
    "    - **RMSE:** 1.6194\n",
    "\n",
    "5. **Random Forests with Hyperparameter Tuning**\n",
    "    - **MAE:** 0.9349\n",
    "    - **RMSE:** 1.6678\n",
    "\n",
    "6. **Gradient Boosting**\n",
    "    - **MAE:** 0.9373\n",
    "    - **RMSE:** 1.6968\n",
    "\n",
    "7. **KNN**\n",
    "    - **MAE:** 0.9376\n",
    "    - **RMSE:** 1.7601\n",
    "\n",
    "8. **KNN with Hyperparameter Tuning**\n",
    "    - **MAE:** 0.9387\n",
    "    - **RMSE:** 1.7631\n",
    "\n",
    "9. **Random Forests**\n",
    "    - **MAE:** 0.9750\n",
    "    - **RMSE:** 1.7014\n",
    "\n",
    "10. **Decision Trees**\n",
    "    - **MAE:** 1.0067\n",
    "    - **RMSE:** 1.9270\n",
    "\n",
    "### Summary\n",
    "Based on the MAE scores, the models are ranked as follows:\n",
    "1. Random Forests with Cross Validation\n",
    "2. Gradient Boosting with Cross Validation\n",
    "3. KNN with Cross Validation\n",
    "4. Decision Trees with Cross Validation\n",
    "5. Random Forests with Hyperparameter Tuning\n",
    "6. Gradient Boosting\n",
    "7. KNN\n",
    "8. KNN with Hyperparameter Tuning\n",
    "9. Random Forests\n",
    "10. Decision Trees\n",
    "\n",
    "All these models perform worse than the baseline model, which had MAE and RMSE of 0.57 and 1.07 respectively. Of the new models, the best performing was Random Forests with Cross Validation which has MAE and RMSE scores of 0.6262 and 1.1449. Because the majority of our data is between 3.9-4.0 and MAE is 0.6262, it means predictions are normally 15.66% to 16% off from the real distance value. This is a slight deterioration from the baseline model, which had predictions which were 14.35% different. \n",
    "\n",
    "To be sure the baseline model is truly the best, we will try to improve the top model through hyperparameter tuning. "
   ]
  },
  {
   "cell_type": "markdown",
   "metadata": {},
   "source": [
    "# Hyperparameter Tuning\n",
    "Lets try to improve the top contending model by tuning hyperparameters with a Grid Search. "
   ]
  },
  {
   "cell_type": "markdown",
   "metadata": {},
   "source": [
    "## Tuning of Random Forests with Cross Validation"
   ]
  },
  {
   "cell_type": "code",
   "execution_count": 74,
   "metadata": {},
   "outputs": [
    {
     "name": "stdout",
     "output_type": "stream",
     "text": [
      "Fitting 5 folds for each of 16 candidates, totalling 80 fits\n",
      "[CV] END max_depth=None, min_samples_leaf=1, min_samples_split=2, n_estimators=100; total time=   0.2s\n",
      "[CV] END max_depth=None, min_samples_leaf=1, min_samples_split=2, n_estimators=100; total time=   0.1s\n",
      "[CV] END max_depth=None, min_samples_leaf=1, min_samples_split=2, n_estimators=100; total time=   0.2s\n",
      "[CV] END max_depth=None, min_samples_leaf=1, min_samples_split=2, n_estimators=100; total time=   0.2s\n",
      "[CV] END max_depth=None, min_samples_leaf=1, min_samples_split=2, n_estimators=100; total time=   0.2s\n",
      "[CV] END max_depth=None, min_samples_leaf=1, min_samples_split=2, n_estimators=200; total time=   0.3s\n",
      "[CV] END max_depth=None, min_samples_leaf=1, min_samples_split=2, n_estimators=200; total time=   0.3s\n",
      "[CV] END max_depth=None, min_samples_leaf=1, min_samples_split=5, n_estimators=100; total time=   0.2s\n",
      "[CV] END max_depth=None, min_samples_leaf=1, min_samples_split=5, n_estimators=100; total time=   0.2s\n",
      "[CV] END max_depth=None, min_samples_leaf=1, min_samples_split=5, n_estimators=100; total time=   0.2s\n",
      "[CV] END max_depth=None, min_samples_leaf=1, min_samples_split=2, n_estimators=200; total time=   0.3s\n",
      "[CV] END max_depth=None, min_samples_leaf=1, min_samples_split=2, n_estimators=200; total time=   0.3s\n",
      "[CV] END max_depth=None, min_samples_leaf=1, min_samples_split=5, n_estimators=100; total time=   0.2s\n",
      "[CV] END max_depth=None, min_samples_leaf=1, min_samples_split=5, n_estimators=100; total time=   0.2s\n",
      "[CV] END max_depth=None, min_samples_leaf=1, min_samples_split=2, n_estimators=200; total time=   0.4s\n",
      "[CV] END max_depth=None, min_samples_leaf=2, min_samples_split=2, n_estimators=100; total time=   0.1s\n",
      "[CV] END max_depth=None, min_samples_leaf=2, min_samples_split=2, n_estimators=100; total time=   0.2s\n",
      "[CV] END max_depth=None, min_samples_leaf=2, min_samples_split=2, n_estimators=100; total time=   0.1s\n",
      "[CV] END max_depth=None, min_samples_leaf=1, min_samples_split=5, n_estimators=200; total time=   0.3s\n",
      "[CV] END max_depth=None, min_samples_leaf=1, min_samples_split=5, n_estimators=200; total time=   0.3s\n",
      "[CV] END max_depth=None, min_samples_leaf=1, min_samples_split=5, n_estimators=200; total time=   0.3s\n",
      "[CV] END max_depth=None, min_samples_leaf=1, min_samples_split=5, n_estimators=200; total time=   0.3s\n",
      "[CV] END max_depth=None, min_samples_leaf=2, min_samples_split=2, n_estimators=100; total time=   0.1s\n",
      "[CV] END max_depth=None, min_samples_leaf=2, min_samples_split=2, n_estimators=100; total time=   0.2s\n",
      "[CV] END max_depth=None, min_samples_leaf=1, min_samples_split=5, n_estimators=200; total time=   0.3s\n",
      "[CV] END max_depth=None, min_samples_leaf=2, min_samples_split=5, n_estimators=100; total time=   0.1s\n",
      "[CV] END max_depth=None, min_samples_leaf=2, min_samples_split=5, n_estimators=100; total time=   0.1s\n",
      "[CV] END max_depth=None, min_samples_leaf=2, min_samples_split=5, n_estimators=100; total time=   0.1s\n",
      "[CV] END max_depth=None, min_samples_leaf=2, min_samples_split=2, n_estimators=200; total time=   0.3s\n",
      "[CV] END max_depth=None, min_samples_leaf=2, min_samples_split=2, n_estimators=200; total time=   0.3s\n",
      "[CV] END max_depth=None, min_samples_leaf=2, min_samples_split=2, n_estimators=200; total time=   0.3s\n",
      "[CV] END max_depth=None, min_samples_leaf=2, min_samples_split=2, n_estimators=200; total time=   0.3s\n",
      "[CV] END max_depth=None, min_samples_leaf=2, min_samples_split=2, n_estimators=200; total time=   0.3s\n",
      "[CV] END max_depth=None, min_samples_leaf=2, min_samples_split=5, n_estimators=100; total time=   0.1s\n",
      "[CV] END max_depth=None, min_samples_leaf=2, min_samples_split=5, n_estimators=100; total time=   0.2s\n",
      "[CV] END max_depth=10, min_samples_leaf=1, min_samples_split=2, n_estimators=100; total time=   0.2s\n",
      "[CV] END max_depth=10, min_samples_leaf=1, min_samples_split=2, n_estimators=100; total time=   0.1s\n",
      "[CV] END max_depth=None, min_samples_leaf=2, min_samples_split=5, n_estimators=200; total time=   0.3s\n",
      "[CV] END max_depth=None, min_samples_leaf=2, min_samples_split=5, n_estimators=200; total time=   0.3s\n",
      "[CV] END max_depth=10, min_samples_leaf=1, min_samples_split=2, n_estimators=100; total time=   0.2s\n",
      "[CV] END max_depth=None, min_samples_leaf=2, min_samples_split=5, n_estimators=200; total time=   0.3s\n",
      "[CV] END max_depth=None, min_samples_leaf=2, min_samples_split=5, n_estimators=200; total time=   0.3s\n",
      "[CV] END max_depth=10, min_samples_leaf=1, min_samples_split=2, n_estimators=100; total time=   0.1s\n",
      "[CV] END max_depth=None, min_samples_leaf=2, min_samples_split=5, n_estimators=200; total time=   0.4s\n",
      "[CV] END max_depth=10, min_samples_leaf=1, min_samples_split=2, n_estimators=100; total time=   0.1s\n",
      "[CV] END max_depth=10, min_samples_leaf=1, min_samples_split=5, n_estimators=100; total time=   0.2s\n",
      "[CV] END max_depth=10, min_samples_leaf=1, min_samples_split=2, n_estimators=200; total time=   0.2s\n",
      "[CV] END max_depth=10, min_samples_leaf=1, min_samples_split=5, n_estimators=100; total time=   0.1s\n",
      "[CV] END max_depth=10, min_samples_leaf=1, min_samples_split=5, n_estimators=100; total time=   0.2s\n",
      "[CV] END max_depth=10, min_samples_leaf=1, min_samples_split=2, n_estimators=200; total time=   0.2s\n",
      "[CV] END max_depth=10, min_samples_leaf=1, min_samples_split=2, n_estimators=200; total time=   0.3s\n",
      "[CV] END max_depth=10, min_samples_leaf=1, min_samples_split=2, n_estimators=200; total time=   0.3s\n",
      "[CV] END max_depth=10, min_samples_leaf=1, min_samples_split=2, n_estimators=200; total time=   0.3s\n",
      "[CV] END max_depth=10, min_samples_leaf=1, min_samples_split=5, n_estimators=100; total time=   0.1s\n",
      "[CV] END max_depth=10, min_samples_leaf=1, min_samples_split=5, n_estimators=100; total time=   0.2s\n",
      "[CV] END max_depth=10, min_samples_leaf=2, min_samples_split=2, n_estimators=100; total time=   0.1s\n",
      "[CV] END max_depth=10, min_samples_leaf=2, min_samples_split=2, n_estimators=100; total time=   0.1s\n",
      "[CV] END max_depth=10, min_samples_leaf=2, min_samples_split=2, n_estimators=100; total time=   0.1s\n",
      "[CV] END max_depth=10, min_samples_leaf=1, min_samples_split=5, n_estimators=200; total time=   0.3s\n",
      "[CV] END max_depth=10, min_samples_leaf=1, min_samples_split=5, n_estimators=200; total time=   0.3s\n",
      "[CV] END max_depth=10, min_samples_leaf=1, min_samples_split=5, n_estimators=200; total time=   0.3s\n",
      "[CV] END max_depth=10, min_samples_leaf=2, min_samples_split=2, n_estimators=100; total time=   0.1s\n",
      "[CV] END max_depth=10, min_samples_leaf=2, min_samples_split=2, n_estimators=100; total time=   0.2s\n",
      "[CV] END max_depth=10, min_samples_leaf=1, min_samples_split=5, n_estimators=200; total time=   0.3s\n",
      "[CV] END max_depth=10, min_samples_leaf=1, min_samples_split=5, n_estimators=200; total time=   0.4s\n",
      "[CV] END max_depth=10, min_samples_leaf=2, min_samples_split=5, n_estimators=100; total time=   0.1s\n",
      "[CV] END max_depth=10, min_samples_leaf=2, min_samples_split=2, n_estimators=200; total time=   0.3s\n",
      "[CV] END max_depth=10, min_samples_leaf=2, min_samples_split=5, n_estimators=100; total time=   0.2s\n",
      "[CV] END max_depth=10, min_samples_leaf=2, min_samples_split=2, n_estimators=200; total time=   0.3s\n",
      "[CV] END max_depth=10, min_samples_leaf=2, min_samples_split=2, n_estimators=200; total time=   0.3s\n",
      "[CV] END max_depth=10, min_samples_leaf=2, min_samples_split=2, n_estimators=200; total time=   0.3s\n",
      "[CV] END max_depth=10, min_samples_leaf=2, min_samples_split=5, n_estimators=100; total time=   0.2s\n",
      "[CV] END max_depth=10, min_samples_leaf=2, min_samples_split=2, n_estimators=200; total time=   0.3s\n",
      "[CV] END max_depth=10, min_samples_leaf=2, min_samples_split=5, n_estimators=100; total time=   0.1s\n",
      "[CV] END max_depth=10, min_samples_leaf=2, min_samples_split=5, n_estimators=100; total time=   0.2s\n",
      "[CV] END max_depth=10, min_samples_leaf=2, min_samples_split=5, n_estimators=200; total time=   0.2s\n",
      "[CV] END max_depth=10, min_samples_leaf=2, min_samples_split=5, n_estimators=200; total time=   0.2s\n",
      "[CV] END max_depth=10, min_samples_leaf=2, min_samples_split=5, n_estimators=200; total time=   0.2s\n",
      "[CV] END max_depth=10, min_samples_leaf=2, min_samples_split=5, n_estimators=200; total time=   0.2s\n",
      "[CV] END max_depth=10, min_samples_leaf=2, min_samples_split=5, n_estimators=200; total time=   0.2s\n",
      "Best Parameters: {'max_depth': 10, 'min_samples_leaf': 2, 'min_samples_split': 2, 'n_estimators': 100}\n",
      "Best RMSE Score: 1.1251\n",
      "Best MAE Score: 0.6175\n",
      "Final Average RMSE for Random Forests w/ Cross Validation (on the best model): 1.1251\n",
      "Final Average MAE for Random Forests w/ Cross Validation (on the best model): 0.6175\n"
     ]
    }
   ],
   "source": [
    "#making custom scorers\n",
    "rmse_scorer = make_scorer(mean_squared_error, greater_is_better=False, squared=False)\n",
    "mae_scorer = make_scorer(mean_absolute_error, greater_is_better=False)\n",
    "\n",
    "#hyperparameter grid\n",
    "param_grid = {\n",
    "    'n_estimators': [100, 200],\n",
    "    'max_depth': [None, 10],\n",
    "    'min_samples_split': [2, 5],\n",
    "    'min_samples_leaf': [1, 2]\n",
    "}\n",
    "\n",
    "\n",
    "rf_model = RandomForestRegressor(random_state=GLOBAL_RANDOM_STATE)\n",
    "kf = KFold(n_splits=5, shuffle=True, random_state=GLOBAL_RANDOM_STATE)\n",
    "\n",
    "#perform GridSearchCV with RMSE and MAE scoring\n",
    "grid_search = GridSearchCV(\n",
    "    estimator=rf_model,\n",
    "    param_grid=param_grid,\n",
    "    scoring={'RMSE': rmse_scorer, 'MAE': mae_scorer},\n",
    "    refit='RMSE',\n",
    "    cv=kf,\n",
    "    verbose=2,\n",
    "    n_jobs=-1\n",
    ")\n",
    "\n",
    "grid_search.fit(X, y)\n",
    "\n",
    "#store the best model and its parameters\n",
    "best_params = grid_search.best_params_\n",
    "best_model = grid_search.best_estimator_\n",
    "\n",
    "print(f\"Best Parameters: {best_params}\")\n",
    "print(f\"Best RMSE Score: {-grid_search.best_score_:.4f}\")\n",
    "print(f\"Best MAE Score: {-grid_search.cv_results_['mean_test_MAE'][grid_search.best_index_]:.4f}\")\n",
    "\n",
    "rmse_scores = []\n",
    "mae_scores = []\n",
    "\n",
    "for train_index, val_index in kf.split(X):\n",
    "    X_train, X_val = X.iloc[train_index], X.iloc[val_index]\n",
    "    y_train, y_val = y.iloc[train_index], y.iloc[val_index]\n",
    "    \n",
    "    best_model.fit(X_train, y_train)\n",
    "    y_pred = best_model.predict(X_val)\n",
    "    \n",
    "    rmse_scores.append(np.sqrt(mean_squared_error(y_val, y_pred)))\n",
    "    mae_scores.append(mean_absolute_error(y_val, y_pred))\n",
    "\n",
    "print(f\"Final Average RMSE for Random Forests w/ Cross Validation (on the best model): {np.mean(rmse_scores):.4f}\")\n",
    "print(f\"Final Average MAE for Random Forests w/ Cross Validation (on the best model): {np.mean(mae_scores):.4f}\")\n"
   ]
  },
  {
   "cell_type": "markdown",
   "metadata": {},
   "source": [
    "# Conclusion\n",
    "It is clear to see that hyperparameter tuning did not significantly improve the Random Forest model. Although the RMSE improved from 1.1449 to 1.1251, and MAE from 0.6262 to 0.6175, the baseline Linear Regresison model performs better according to both metrics. \n",
    "\n",
    "### Why the Linear Regression may be outperforming\n",
    "Although one may have expected a more refined and complex algorithm such as Random Forests to perform the best, the baseline regression model may be outperforming more complex algorithms due to the size of our data. with 208 packets (rows) of data, it means only about 160 are being trained on, and 40 to test with after the train_test_split. As explained at the beginning of baselineModelTesting.ipynb, more complex algorithms are prone to overfit on small datasets, which is why we chose a simple Linear Regression as the baseline model. \n",
    "\n",
    "In addition, Linear Regressions generally tend to perform particularly well when relationships within data are easily interpretable or show a linear relation. For example, it should be obvious that the more battery in the car, the more distance it can travel. Or the faster the car travels, the less distance it will be able to travel. Since the lap data is full of simple relationships like these, it will overfit less often than a Random Forest might. \n",
    "\n",
    "### What even is RMSE/MAE? How does it relate to accuracy and precision?\n",
    "MAE (Mean Absolute Error) is the average of the absolute differences between predicted and actual distance values. That is, it measures the average magnitude of errors in a set of predictions, without considering their direction. MAE differs from RMSE in how it is less sensitive to outliers compared to RMSE because it does not square the errors.\n",
    "\n",
    "RMSE (Root Mean Squared Error) is the square root of the average of the squared differences between predicted and actual values. It measures the average magnitude of errors, giving more weight to larger errors due to the squaring it does. That is, RMSE is more sensitive to outliers because it squares the errors, which can disproportionately affect the metric if there are large errors.\n",
    "\n",
    "Here are some examples to put the two simply.\\\n",
    "**MAE**: Imagine you are trying to guess (make a prediction on) the distance a car will travel in a lap. If you guess wrong, MAE tells you, on average, how far off your guesses are from the actual distances. It’s like saying, \"On average, my guesses are off by about 0.57 units.\"\n",
    "\n",
    "**RMSE**: Now, if you make a few really bad guesses, RMSE will highlight these more because it squares the errors. It’s like saying, \"If I make a big mistake, it will really show up in my RMSE score.\" RMSE gives you a sense of how bad your worst mistakes are.\n",
    "\n",
    "When it comes to accuracy and precision, accuracy refers to how close the model's predictions are to the actual values. RMSE can be seen as a measure of accuracy because it penalizes larger errors more, thus providing a sense of how far off the predictions can be. Precision refers to the consistency of the model's predictions. A model with high precision will have predictions that are close to each other.\n",
    "MAE can be seen as a measure of precision because it shows the average error without emphasizing larger errors.\n",
    "\n",
    "### What does this mean for Helios?\n",
    "When it comes to Helios, predicting lap distances accurately is useful in optimizing performance and driving strategy. Here are a few scenarios where MAE and RMSE come into play: \n",
    "\n",
    "**Energy Management**:\\\n",
    "MAE: With a low MAE, it means our model is generally good at predicting lap distances. We can use this to plan energy consumption more precisely, ensuring that the car has enough power to complete the race without running out of battery.\n",
    "\n",
    "RMSE: If the RMSE is high, it indicates that there are some laps where the prediction is significantly off. This could mean unexpected energy usage, whether because there is something wrong with the car or due to irregular driving style. So, we may need to have contingency plans for such laps.\n",
    "\n",
    "**Performance Monitoring**:\\\n",
    "MAE: Regularly monitoring MAE will help ensure the model remains reliable over time. If MAE starts increasing, it might indicate that the model needs retraining or that there are changes in the car’s performance.\n",
    "\n",
    "RMSE: Keeping an eye on RMSE will help us catch significant issues early. If RMSE spikes, there was likely outlier data introduced, which could mean there’s a problem with the car or the data, prompting further investigation into driving behaviour. \n",
    "\n",
    "### Real world example\n",
    "Suppose the model predicts that the car will travel 4.0 units in the next lap, but the actual distance varies. With a MAE of 0.57, we can expect that, on average, the prediction will be within 0.57 units of the actual distance. This helps to plan energy usage more accurately.\n",
    "\n",
    "However, since RMSE is 1.07, it means that while most predictions are close, some could be off by more than 1 unit. This indicates that there should be a buffer in the energy planning to account for these large errors, ensuring that the car doesn’t run out of power unexpectedly.\n",
    "\n",
    "By understanding and applying MAE and RMSE, we can make informed decisions to optimize the car’s performance, manage energy efficiently, and improve overall race strategy.\n",
    "\n",
    "\n",
    "\n"
   ]
  }
 ],
 "metadata": {
  "kernelspec": {
   "display_name": "base",
   "language": "python",
   "name": "python3"
  },
  "language_info": {
   "codemirror_mode": {
    "name": "ipython",
    "version": 3
   },
   "file_extension": ".py",
   "mimetype": "text/x-python",
   "name": "python",
   "nbconvert_exporter": "python",
   "pygments_lexer": "ipython3",
   "version": "3.9.12"
  }
 },
 "nbformat": 4,
 "nbformat_minor": 2
}
